{
 "cells": [
  {
   "cell_type": "markdown",
   "metadata": {},
   "source": [
    "<center>\n",
    "    <img src=\"https://cf-courses-data.s3.us.cloud-object-storage.appdomain.cloud/IBMDeveloperSkillsNetwork-DS0105EN-SkillsNetwork/labs/Module2/images/SN_web_lightmode.png\" width=\"300\" alt=\"cognitiveclass.ai logo\">\n",
    "</center>\n"
   ]
  },
  {
   "cell_type": "markdown",
   "metadata": {
    "jp-MarkdownHeadingCollapsed": true,
    "tags": []
   },
   "source": [
    "#### Tools for Data Science : Final Project (Peer-Graded Assignment)"
   ]
  },
  {
   "cell_type": "markdown",
   "metadata": {
    "tags": []
   },
   "source": [
    "#### Introduction\n",
    "\n",
    "This notebook provides an overview of various data science tools, including programming languages, libraries, and other tools that are widely used in the field of data science."
   ]
  },
  {
   "cell_type": "markdown",
   "metadata": {},
   "source": [
    "#### Data Science Languages\n",
    "\n",
    "- Python\n",
    "- R\n",
    "- Java\n",
    "- Julia"
   ]
  },
  {
   "cell_type": "markdown",
   "metadata": {},
   "source": [
    "#### Data Science Libraries\n",
    "\n",
    "- NumPy\n",
    "- Pandas\n",
    "- Matplotlib\n",
    "- Scikit-learn\n",
    "- TensorFlow\n",
    "- Keras"
   ]
  },
  {
   "cell_type": "markdown",
   "metadata": {},
   "source": [
    "#### Data Science Tools\n",
    "\n",
    "| Tools | Description |\n",
    "| --- | --- |\n",
    "| Anaconda | A popular distribution of Python and R for data science | \n",
    "| Jupyter Notebook | An open-source web application that allows you to create and share documents that contain live code, equations, visualizations, and narrative text | \n",
    "| Spyder | An integrated development environment (IDE) for scientific computing | \n",
    "| Tableau | A data visualization software that helps you to see and understand your data | \n",
    "| Apache Hadoop | A framework for distributed storage and processing of large datasets | \n",
    "| Apache Spark | An open-source, distributed computing system used for big data processing and analysis | \n",
    "| MongoDB | A document-oriented NoSQL database used for handling large amounts of unstructured data| "
   ]
  },
  {
   "cell_type": "markdown",
   "metadata": {},
   "source": [
    "#### Arithmetic Expression Examples using Python's mathematical operators\n",
    "\n",
    "\n",
    "| Operators | Function |\n",
    "| --- | --- |\n",
    "| + | Addition | \n",
    "| - | Subtraction | \n",
    "| * | Multiplication | \n",
    "| / | Fraction | \n",
    "| ** | Rank/Power | "
   ]
  },
  {
   "cell_type": "code",
   "execution_count": 2,
   "metadata": {},
   "outputs": [
    {
     "name": "stdout",
     "output_type": "stream",
     "text": [
      "Multiplication result: 50\n",
      "Addition result: 15\n"
     ]
    }
   ],
   "source": [
    "## multiply and add numbers.\n",
    "a = 5\n",
    "b = 10\n",
    "c = a * b # Multiply a and b\n",
    "d = a + b # Add a and b\n",
    "print(\"Multiplication result:\", c)\n",
    "print(\"Addition result:\", d)"
   ]
  },
  {
   "cell_type": "code",
   "execution_count": 4,
   "metadata": {},
   "outputs": [
    {
     "name": "stdout",
     "output_type": "stream",
     "text": [
      "120 minutes is equal to 2.0 hours\n"
     ]
    }
   ],
   "source": [
    "## convert minutes to hours\n",
    "minutes = 120\n",
    "hours = minutes / 60 # Convert minutes to hours\n",
    "print(\"120 minutes is equal to\", hours, \"hours\")"
   ]
  },
  {
   "cell_type": "markdown",
   "metadata": {},
   "source": [
    "#### Objectives \n",
    "\n",
    "- Learn about popular data science programming languages and libraries\n",
    "- Understand various data science tools and their applications\n",
    "- Practice writing arithmetic expressions using Python's mathematical operators"
   ]
  },
  {
   "cell_type": "markdown",
   "metadata": {},
   "source": [
    "#### Authors Name\n",
    "\n",
    "Dennis Imanuel"
   ]
  },
  {
   "cell_type": "code",
   "execution_count": null,
   "metadata": {},
   "outputs": [],
   "source": []
  }
 ],
 "metadata": {
  "kernelspec": {
   "display_name": "Python",
   "language": "python",
   "name": "conda-env-python-py"
  },
  "language_info": {
   "codemirror_mode": {
    "name": "ipython",
    "version": 3
   },
   "file_extension": ".py",
   "mimetype": "text/x-python",
   "name": "python",
   "nbconvert_exporter": "python",
   "pygments_lexer": "ipython3",
   "version": "3.7.12"
  }
 },
 "nbformat": 4,
 "nbformat_minor": 4
}
